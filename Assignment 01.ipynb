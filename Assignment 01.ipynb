{
 "cells": [
  {
   "cell_type": "markdown",
   "id": "4c2d3548",
   "metadata": {},
   "source": [
    "## Write a Python program that accepts a word from the user and reverse it.\n",
    "\n"
   ]
  },
  {
   "cell_type": "code",
   "execution_count": 3,
   "id": "9436bcfe",
   "metadata": {},
   "outputs": [
    {
     "name": "stdout",
     "output_type": "stream",
     "text": [
      "enter sometging: sai\n",
      "ias\n"
     ]
    }
   ],
   "source": [
    "n = input(\"enter sometging: \")[::-1]\n",
    "print(n)"
   ]
  },
  {
   "cell_type": "markdown",
   "id": "d47d2e87",
   "metadata": {},
   "source": [
    "### Write a Python program to count the number of even and odd numbers from a series of numbers.\n",
    "\n"
   ]
  },
  {
   "cell_type": "code",
   "execution_count": 1,
   "id": "26ad5d31",
   "metadata": {},
   "outputs": [
    {
     "name": "stdout",
     "output_type": "stream",
     "text": [
      "enter number: 5\n",
      "no of even numbers = 2\n",
      "no of odd numbers = 3\n"
     ]
    }
   ],
   "source": [
    "n = int(input('enter number: '))\n",
    "e_c = 0\n",
    "o_c = 0\n",
    "m = abs(n)\n",
    "for i in range(1,m+1):\n",
    "    if i % 2 == 0:\n",
    "        e_c += 1\n",
    "    else:\n",
    "        o_c += 1\n",
    "print('no of even numbers =',e_c)\n",
    "print('no of odd numbers =',o_c)"
   ]
  },
  {
   "cell_type": "code",
   "execution_count": 2,
   "id": "105eb793",
   "metadata": {},
   "outputs": [
    {
     "name": "stdout",
     "output_type": "stream",
     "text": [
      "enter number: 5\n",
      "no of even numbers = 2\n",
      "no of odd numbers = 3\n"
     ]
    }
   ],
   "source": [
    "n = int(input('enter number: '))\n",
    "e_c = 0\n",
    "o_c = 0\n",
    "i = 1\n",
    "while i <= abs(n):\n",
    "    if i % 2 == 0:\n",
    "        e_c += 1\n",
    "        i += 1\n",
    "    else:\n",
    "        o_c += 1\n",
    "        i += 1\n",
    "print('no of even numbers =',e_c)\n",
    "print('no of odd numbers =',o_c)"
   ]
  },
  {
   "cell_type": "markdown",
   "id": "bf9ce7cb",
   "metadata": {},
   "source": [
    "## Write a Python program to get the Fibonacci series between 0 to 50\n",
    "\n"
   ]
  },
  {
   "cell_type": "code",
   "execution_count": 4,
   "id": "7d5abf6a",
   "metadata": {},
   "outputs": [
    {
     "name": "stdout",
     "output_type": "stream",
     "text": [
      "enter number: 9\n",
      "1\n",
      "1\n",
      "2\n",
      "3\n",
      "5\n",
      "8\n",
      "13\n",
      "21\n",
      "34\n"
     ]
    }
   ],
   "source": [
    "k = int(input('enter number: '))\n",
    "a = 0\n",
    "b = 1\n",
    "c = 1\n",
    "for c in range(k):\n",
    "    print(b)\n",
    "    a,b = b,a + b\n",
    "    \n",
    "   c += 1"
   ]
  },
  {
   "cell_type": "code",
   "execution_count": 6,
   "id": "3a533427",
   "metadata": {},
   "outputs": [
    {
     "name": "stdout",
     "output_type": "stream",
     "text": [
      "enter number: 9\n",
      "1\n",
      "1\n",
      "2\n",
      "3\n",
      "5\n",
      "8\n",
      "13\n",
      "21\n",
      "34\n"
     ]
    }
   ],
   "source": [
    "k = int(input('enter number: '))\n",
    "a = 0\n",
    "b = 1\n",
    "c = 1\n",
    "while c <= k:\n",
    "    print(b)\n",
    "    a,b = b,a + b\n",
    "    \n",
    "    c += 1\n",
    "    "
   ]
  },
  {
   "cell_type": "code",
   "execution_count": null,
   "id": "3b3a49be",
   "metadata": {},
   "outputs": [],
   "source": []
  }
 ],
 "metadata": {
  "kernelspec": {
   "display_name": "Python 3 (ipykernel)",
   "language": "python",
   "name": "python3"
  },
  "language_info": {
   "codemirror_mode": {
    "name": "ipython",
    "version": 3
   },
   "file_extension": ".py",
   "mimetype": "text/x-python",
   "name": "python",
   "nbconvert_exporter": "python",
   "pygments_lexer": "ipython3",
   "version": "3.10.0"
  }
 },
 "nbformat": 4,
 "nbformat_minor": 5
}
